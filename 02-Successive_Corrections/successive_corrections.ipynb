{
  "cells": [
    {
      "cell_type": "code",
      "execution_count": null,
      "id": "55c27f76",
      "metadata": {
        "id": "55c27f76"
      },
      "outputs": [],
      "source": [
        "\"\"\"\n",
        "Created By    : Jared W. Marquis\n",
        "Creation Date : 01 August 2022\n",
        "Course        : ATSC 528 - Atmospheric Data Analysis\n",
        "Assignment    : #02 - Successive Corrections\n",
        "\n",
        "Purpose:\n",
        "Script to take sparse upper air observations and analyze them on a\n",
        "polar stereographic map projection using successive corrections.\n",
        "[PUT MORE INFORMATION HERE - I.E., WHAT SPECIFIC THING IS BEING DONE]\n",
        "\n",
        "\"\"\"\n",
        "__author__    = \"Jared W. Marquis\"\n",
        "__contact__   = \"jared.marquis@und.edu\""
      ]
    },
    {
      "cell_type": "code",
      "source": [],
      "metadata": {
        "id": "Wk6x7xfPkKu9"
      },
      "id": "Wk6x7xfPkKu9",
      "execution_count": null,
      "outputs": []
    },
    {
      "cell_type": "code",
      "execution_count": 1,
      "metadata": {
        "colab": {
          "base_uri": "https://localhost:8080/"
        },
        "id": "c022d753-7412-47a2-8a6d-3544951717b2",
        "outputId": "715472ec-de24-47b9-ad8e-7018174e36d5",
        "collapsed": true
      },
      "outputs": [
        {
          "output_type": "stream",
          "name": "stdout",
          "text": [
            "Collecting cartopy\n",
            "  Downloading Cartopy-0.24.1-cp310-cp310-manylinux_2_17_x86_64.manylinux2014_x86_64.whl.metadata (7.9 kB)\n",
            "Requirement already satisfied: numpy>=1.23 in /usr/local/lib/python3.10/dist-packages (from cartopy) (1.26.4)\n",
            "Requirement already satisfied: matplotlib>=3.6 in /usr/local/lib/python3.10/dist-packages (from cartopy) (3.7.1)\n",
            "Requirement already satisfied: shapely>=1.8 in /usr/local/lib/python3.10/dist-packages (from cartopy) (2.0.6)\n",
            "Requirement already satisfied: packaging>=21 in /usr/local/lib/python3.10/dist-packages (from cartopy) (24.1)\n",
            "Requirement already satisfied: pyshp>=2.3 in /usr/local/lib/python3.10/dist-packages (from cartopy) (2.3.1)\n",
            "Requirement already satisfied: pyproj>=3.3.1 in /usr/local/lib/python3.10/dist-packages (from cartopy) (3.7.0)\n",
            "Requirement already satisfied: contourpy>=1.0.1 in /usr/local/lib/python3.10/dist-packages (from matplotlib>=3.6->cartopy) (1.3.0)\n",
            "Requirement already satisfied: cycler>=0.10 in /usr/local/lib/python3.10/dist-packages (from matplotlib>=3.6->cartopy) (0.12.1)\n",
            "Requirement already satisfied: fonttools>=4.22.0 in /usr/local/lib/python3.10/dist-packages (from matplotlib>=3.6->cartopy) (4.54.1)\n",
            "Requirement already satisfied: kiwisolver>=1.0.1 in /usr/local/lib/python3.10/dist-packages (from matplotlib>=3.6->cartopy) (1.4.7)\n",
            "Requirement already satisfied: pillow>=6.2.0 in /usr/local/lib/python3.10/dist-packages (from matplotlib>=3.6->cartopy) (10.4.0)\n",
            "Requirement already satisfied: pyparsing>=2.3.1 in /usr/local/lib/python3.10/dist-packages (from matplotlib>=3.6->cartopy) (3.2.0)\n",
            "Requirement already satisfied: python-dateutil>=2.7 in /usr/local/lib/python3.10/dist-packages (from matplotlib>=3.6->cartopy) (2.8.2)\n",
            "Requirement already satisfied: certifi in /usr/local/lib/python3.10/dist-packages (from pyproj>=3.3.1->cartopy) (2024.8.30)\n",
            "Requirement already satisfied: six>=1.5 in /usr/local/lib/python3.10/dist-packages (from python-dateutil>=2.7->matplotlib>=3.6->cartopy) (1.16.0)\n",
            "Downloading Cartopy-0.24.1-cp310-cp310-manylinux_2_17_x86_64.manylinux2014_x86_64.whl (11.7 MB)\n",
            "\u001b[2K   \u001b[90m━━━━━━━━━━━━━━━━━━━━━━━━━━━━━━━━━━━━━━━━\u001b[0m \u001b[32m11.7/11.7 MB\u001b[0m \u001b[31m33.0 MB/s\u001b[0m eta \u001b[36m0:00:00\u001b[0m\n",
            "\u001b[?25hInstalling collected packages: cartopy\n",
            "Successfully installed cartopy-0.24.1\n"
          ]
        }
      ],
      "source": [
        "#Used Colab for further works, supports Pip\n",
        "!pip install cartopy"
      ],
      "id": "c022d753-7412-47a2-8a6d-3544951717b2"
    },
    {
      "cell_type": "code",
      "execution_count": 2,
      "id": "7335135f",
      "metadata": {
        "id": "7335135f"
      },
      "outputs": [],
      "source": [
        "### Import Required Modules (shouldn't need to change) ###\n",
        "import numpy as np                 #numpy for math\n",
        "import matplotlib.pyplot as plt    #matplotlib for plotting\n",
        "import cartopy.crs as ccrs         #cartopy for plotting on map\n",
        "import cartopy.feature as cfeature #cartopy basic shapefiles"
      ]
    },
    {
      "cell_type": "code",
      "execution_count": null,
      "id": "fdc35da3",
      "metadata": {
        "id": "fdc35da3"
      },
      "outputs": [],
      "source": [
        "### Create function for Cressman Analysis ###\n",
        "def cressman...:\n",
        "    \"\"\"\n",
        "    Function to analyze the value at a given point from other data\n",
        "    using a Cressman analysis technique.\n",
        "\n",
        "    inputs:\n",
        "      something = something\n",
        "\n",
        "    returns:\n",
        "      something = something\n",
        "    \"\"\"\n",
        "\n",
        "    return something"
      ]
    },
    {
      "cell_type": "code",
      "execution_count": null,
      "id": "ac991609",
      "metadata": {
        "id": "ac991609"
      },
      "outputs": [],
      "source": [
        "### Create function for bilinear interpolation ###\n"
      ]
    },
    {
      "cell_type": "code",
      "execution_count": 4,
      "id": "e55bf048",
      "metadata": {
        "id": "e55bf048"
      },
      "outputs": [],
      "source": [
        "### Read in observations ###\n",
        "data_path = '/content/RAOBs_201903131200.txt'\n",
        "data = np.genfromtxt(data_path, delimiter=',', dtype=str)\n",
        "\n",
        "# Individual columns for each data\n",
        "station_ids = data[:, 0]  # Station IDs\n",
        "station_lat = data[:, 1].astype(float)  # Latitude values\n",
        "station_lon = data[:, 2].astype(float)  # Longitude values\n",
        "heights = data[:, 3].astype(float)  # 500-mb Height\n"
      ]
    },
    {
      "cell_type": "code",
      "source": [
        "phi0 = np.radians(60)  # central latitude φ0 in radians\n",
        "lambda0 = np.radians(-115)\n",
        "lat_rad=np.radians (station_lat)\n",
        "lon_rad=np.radians(station_lon) # central longitude λ0 in radians\n",
        "R = 6371*1000  # Earth's radius in meters\n",
        "m = 1 / 15000000  # map scale\n",
        "\n",
        "proj= ccrs.Stereographic(central_latitude=90, central_longitude=-115,true_scale_latitude=60)"
      ],
      "metadata": {
        "id": "wCevVrR6kUQ1"
      },
      "id": "wCevVrR6kUQ1",
      "execution_count": 5,
      "outputs": []
    },
    {
      "cell_type": "code",
      "execution_count": 6,
      "id": "9464917a",
      "metadata": {
        "id": "9464917a",
        "outputId": "81943633-35bf-4111-db72-9f9c706927a0",
        "colab": {
          "base_uri": "https://localhost:8080/",
          "height": 482
        }
      },
      "outputs": [
        {
          "output_type": "stream",
          "name": "stdout",
          "text": [
            "Shape of x_grid: (22,)\n",
            "Shape of y_grid: (28,)\n"
          ]
        },
        {
          "output_type": "execute_result",
          "data": {
            "text/plain": [
              "<matplotlib.collections.PathCollection at 0x7bb4440beaa0>"
            ]
          },
          "metadata": {},
          "execution_count": 6
        },
        {
          "output_type": "display_data",
          "data": {
            "text/plain": [
              "<Figure size 640x480 with 1 Axes>"
            ],
            "image/png": "[encoded data removed]"
          },
          "metadata": {}
        }
      ],
      "source": [
        "### Set up analysis map with a 22x28 rectangular grid of points ###\n",
        "x0, y0 = 18.90, -6.30\n",
        "dx, dy = 1.27, 1.27\n",
        "nx, ny = 22,28\n",
        "# Making a (22x28) grid\n",
        "x_grid = np.linspace(x0, x0 + (nx - 1) * dx, nx)\n",
        "y_grid = np.linspace(y0, y0 + (ny - 1) * dy, ny)\n",
        "\n",
        "X, Y = np.meshgrid(x_grid, y_grid)\n",
        "print(\"Shape of x_grid:\", x_grid.shape)\n",
        "print(\"Shape of y_grid:\", y_grid.shape)\n",
        "plt.scatter(X, Y, color='blue', label='Grid Points', marker='.')"
      ]
    },
    {
      "cell_type": "code",
      "execution_count": 7,
      "id": "64629e3a",
      "metadata": {
        "id": "64629e3a",
        "outputId": "26d84c92-6bc6-4223-8e80-a96cd578732f",
        "colab": {
          "base_uri": "https://localhost:8080/",
          "height": 447
        }
      },
      "outputs": [
        {
          "output_type": "execute_result",
          "data": {
            "text/plain": [
              "<matplotlib.collections.PathCollection at 0x7bb444302830>"
            ]
          },
          "metadata": {},
          "execution_count": 7
        },
        {
          "output_type": "display_data",
          "data": {
            "text/plain": [
              "<Figure size 640x480 with 1 Axes>"
            ],
            "image/png": "[encoded data removed]"
          },
          "metadata": {}
        }
      ],
      "source": [
        "### convert obs lat/long to x,y ###\n",
        "def latlon_to_xy(station_lat, station_lon):\n",
        "  sigma = (1+np.sin(phi0)) / (1+np.sin(lat_rad))\n",
        "\n",
        "  x_obs = R * sigma * m *np.cos(lat_rad)*np.cos(lon_rad-lambda0)*100\n",
        "\n",
        "  y_obs = R * sigma * m *np.cos(lat_rad)*np.sin(lon_rad-lambda0)*100\n",
        "\n",
        "  return x_obs, y_obs\n",
        "\n",
        "# Apply the function to all latitude and longitude values\n",
        "obs_coords = np.array([latlon_to_xy(lat, lon) for lat, lon in zip(station_lat, station_lon)])\n",
        "\n",
        "# Separate x and y coordinates\n",
        "xk, yk = obs_coords[:, 0], obs_coords[:, 1]\n",
        "\n",
        "#Plot the Stations and the Grid to Verify Alignment (I got wrong here somewhere)\n",
        "plt.scatter(X, Y, color='blue', label='Grid Points', marker='.')  # Plot the grid points\n",
        "plt.scatter(xk, yk, color='green', label='Converted Station Positions', marker='o')  # Plot station positions"
      ]
    },
    {
      "cell_type": "code",
      "execution_count": null,
      "id": "8d5634ab",
      "metadata": {
        "id": "8d5634ab"
      },
      "outputs": [],
      "source": [
        "### Perform 500mb geopotential height analyses using a Cressman weighting Function###\n",
        "#Use radii of influence 4, 2.5, 1.5 *dmin\n"
      ]
    },
    {
      "cell_type": "code",
      "execution_count": null,
      "id": "c4450fdd",
      "metadata": {
        "id": "c4450fdd"
      },
      "outputs": [],
      "source": [
        "### First analysis, no successive corrections ###\n"
      ]
    },
    {
      "cell_type": "code",
      "execution_count": null,
      "id": "4bca0a81",
      "metadata": {
        "id": "4bca0a81"
      },
      "outputs": [],
      "source": [
        "### Next Analyses ###"
      ]
    },
    {
      "cell_type": "code",
      "execution_count": null,
      "id": "49d5d9ef",
      "metadata": {
        "id": "49d5d9ef"
      },
      "outputs": [],
      "source": [
        "### Calculate Analysis Differences\n"
      ]
    },
    {
      "cell_type": "code",
      "execution_count": null,
      "id": "89c8ecdc",
      "metadata": {
        "id": "89c8ecdc"
      },
      "outputs": [],
      "source": [
        "### Plot 500mb analyses over a map ###\n",
        "#use old code...\n",
        "\n"
      ]
    },
    {
      "cell_type": "code",
      "execution_count": null,
      "id": "fa70d076",
      "metadata": {
        "id": "fa70d076"
      },
      "outputs": [],
      "source": [
        "### Plot Analysis Differences ###\n"
      ]
    },
    {
      "cell_type": "code",
      "execution_count": null,
      "id": "b141bb9c",
      "metadata": {
        "id": "b141bb9c"
      },
      "outputs": [],
      "source": [
        "### Store the analyses in text files ###\n"
      ]
    },
    {
      "cell_type": "code",
      "execution_count": null,
      "id": "67e29b4a",
      "metadata": {
        "id": "67e29b4a"
      },
      "outputs": [],
      "source": [
        "### Store the difference fields in text files ###\n"
      ]
    },
    {
      "cell_type": "code",
      "execution_count": null,
      "id": "dc488357",
      "metadata": {
        "id": "dc488357"
      },
      "outputs": [],
      "source": [
        "### Store RMS values in text file ###\n"
      ]
    },
    {
      "cell_type": "code",
      "execution_count": null,
      "id": "661c6680",
      "metadata": {
        "id": "661c6680"
      },
      "outputs": [],
      "source": [
        "### In a separte text file (or below), answer the following questions ###\n",
        "'''\n",
        "1 - Describe the general features that you see in your contoured analyses.\n",
        "\n",
        "\n",
        "2 - Describe the differences that you see in your contoured analyses.\n",
        "    Does one analysis seem to be smoother than the other?  If so, what would cause this?\n",
        "\n",
        "\n",
        "3 - What happens as you increase the number of successive correction passes?  Is this\n",
        "    desirable?  Why or why not?\n",
        "\n",
        "\n",
        "'''"
      ]
    }
  ],
  "metadata": {
    "kernelspec": {
      "display_name": "Python 3 (ipykernel)",
      "language": "python",
      "name": "python3"
    },
    "language_info": {
      "codemirror_mode": {
        "name": "ipython",
        "version": 3
      },
      "file_extension": ".py",
      "mimetype": "text/x-python",
      "name": "python",
      "nbconvert_exporter": "python",
      "pygments_lexer": "ipython3",
      "version": "3.10.4"
    },
    "colab": {
      "provenance": []
    }
  },
  "nbformat": 4,
  "nbformat_minor": 5
}