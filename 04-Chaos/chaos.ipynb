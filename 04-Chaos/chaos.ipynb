{
  "cells": [
    {
      "cell_type": "code",
      "execution_count": null,
      "id": "55c27f76",
      "metadata": {
        "id": "55c27f76"
      },
      "outputs": [],
      "source": [
        "\"\"\"\n",
        "Created By    : Jared W. Marquis\n",
        "Creation Date : 01 August 2022\n",
        "Course        : ATSC 528 - Atmospheric Data Analysis\n",
        "Assignment    : #04 - Chaos\n",
        "\n",
        "Purpose:\n",
        "Script to examine how chaos manifests in simple model.\n",
        "[PUT MORE INFORMATION HERE - I.E., WHAT SPECIFIC THING IS BEING DONE]\n",
        "\n",
        "\"\"\"\n",
        "__author__    = \"Jared W. Marquis\"\n",
        "__contact__   = \"jared.marquis@und.edu\"\n",
        "Edited by \"Sharhad Wainty\""
      ]
    },
    {
      "cell_type": "code",
      "source": [
        "!pip install cartopy"
      ],
      "metadata": {
        "id": "tFp8XxZT1RF-",
        "outputId": "f0c2acb5-597b-49e3-a51b-57577bc43c65",
        "colab": {
          "base_uri": "https://localhost:8080/"
        }
      },
      "id": "tFp8XxZT1RF-",
      "execution_count": 1,
      "outputs": [
        {
          "output_type": "stream",
          "name": "stdout",
          "text": [
            "Collecting cartopy\n",
            "  Downloading Cartopy-0.24.1-cp310-cp310-manylinux_2_17_x86_64.manylinux2014_x86_64.whl.metadata (7.9 kB)\n",
            "Requirement already satisfied: numpy>=1.23 in /usr/local/lib/python3.10/dist-packages (from cartopy) (1.26.4)\n",
            "Requirement already satisfied: matplotlib>=3.6 in /usr/local/lib/python3.10/dist-packages (from cartopy) (3.8.0)\n",
            "Requirement already satisfied: shapely>=1.8 in /usr/local/lib/python3.10/dist-packages (from cartopy) (2.0.6)\n",
            "Requirement already satisfied: packaging>=21 in /usr/local/lib/python3.10/dist-packages (from cartopy) (24.2)\n",
            "Requirement already satisfied: pyshp>=2.3 in /usr/local/lib/python3.10/dist-packages (from cartopy) (2.3.1)\n",
            "Requirement already satisfied: pyproj>=3.3.1 in /usr/local/lib/python3.10/dist-packages (from cartopy) (3.7.0)\n",
            "Requirement already satisfied: contourpy>=1.0.1 in /usr/local/lib/python3.10/dist-packages (from matplotlib>=3.6->cartopy) (1.3.1)\n",
            "Requirement already satisfied: cycler>=0.10 in /usr/local/lib/python3.10/dist-packages (from matplotlib>=3.6->cartopy) (0.12.1)\n",
            "Requirement already satisfied: fonttools>=4.22.0 in /usr/local/lib/python3.10/dist-packages (from matplotlib>=3.6->cartopy) (4.55.0)\n",
            "Requirement already satisfied: kiwisolver>=1.0.1 in /usr/local/lib/python3.10/dist-packages (from matplotlib>=3.6->cartopy) (1.4.7)\n",
            "Requirement already satisfied: pillow>=6.2.0 in /usr/local/lib/python3.10/dist-packages (from matplotlib>=3.6->cartopy) (11.0.0)\n",
            "Requirement already satisfied: pyparsing>=2.3.1 in /usr/local/lib/python3.10/dist-packages (from matplotlib>=3.6->cartopy) (3.2.0)\n",
            "Requirement already satisfied: python-dateutil>=2.7 in /usr/local/lib/python3.10/dist-packages (from matplotlib>=3.6->cartopy) (2.8.2)\n",
            "Requirement already satisfied: certifi in /usr/local/lib/python3.10/dist-packages (from pyproj>=3.3.1->cartopy) (2024.8.30)\n",
            "Requirement already satisfied: six>=1.5 in /usr/local/lib/python3.10/dist-packages (from python-dateutil>=2.7->matplotlib>=3.6->cartopy) (1.16.0)\n",
            "Downloading Cartopy-0.24.1-cp310-cp310-manylinux_2_17_x86_64.manylinux2014_x86_64.whl (11.7 MB)\n",
            "\u001b[2K   \u001b[90m━━━━━━━━━━━━━━━━━━━━━━━━━━━━━━━━━━━━━━━━\u001b[0m \u001b[32m11.7/11.7 MB\u001b[0m \u001b[31m55.4 MB/s\u001b[0m eta \u001b[36m0:00:00\u001b[0m\n",
            "\u001b[?25hInstalling collected packages: cartopy\n",
            "Successfully installed cartopy-0.24.1\n"
          ]
        }
      ]
    },
    {
      "cell_type": "code",
      "execution_count": null,
      "id": "7335135f",
      "metadata": {
        "id": "7335135f"
      },
      "outputs": [],
      "source": [
        "### Import Required Modules (shouldn't need to change) ###\n",
        "import numpy as np                 #numpy for math\n",
        "import matplotlib.pyplot as plt    #matplotlib for plotting\n",
        "import cartopy.crs as ccrs         #cartopy for plotting on map\n",
        "import cartopy.feature as cfeature #cartopy basic shapefiles\n"
      ]
    },
    {
      "cell_type": "code",
      "execution_count": null,
      "id": "d5507f28",
      "metadata": {
        "id": "d5507f28"
      },
      "outputs": [],
      "source": [
        "### In a separte text file (or below), provide a discussion of your results ###\n",
        "### Make sure to answer the following questions in your discussion          ###\n",
        "### 1 - Are the two simulations the same throughout the entire period?      ###\n",
        "###     If not, when do they diverge?                                       ###\n",
        "### 2 - If the ending points are different, what does this say regarding    ###\n",
        "###     the importance of providing NWP models, assuming this serves as a   ###\n",
        "###     proxy for one, with accurate and balanced initial conditions?       ###\n",
        "'''\n",
        "\n",
        "\n",
        "'''"
      ]
    }
  ],
  "metadata": {
    "kernelspec": {
      "display_name": "Python 3 (ipykernel)",
      "language": "python",
      "name": "python3"
    },
    "language_info": {
      "codemirror_mode": {
        "name": "ipython",
        "version": 3
      },
      "file_extension": ".py",
      "mimetype": "text/x-python",
      "name": "python",
      "nbconvert_exporter": "python",
      "pygments_lexer": "ipython3",
      "version": "3.10.4"
    },
    "colab": {
      "provenance": []
    }
  },
  "nbformat": 4,
  "nbformat_minor": 5
}